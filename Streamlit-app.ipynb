{
 "cells": [
  {
   "cell_type": "markdown",
   "id": "8be6da5a-9c1c-4e35-be08-02c462886118",
   "metadata": {},
   "source": [
    "# Streamline App"
   ]
  },
  {
   "cell_type": "code",
   "execution_count": 2,
   "id": "79a37c46-0b03-4d8a-be09-f339f0adaeaf",
   "metadata": {},
   "outputs": [
    {
     "name": "stderr",
     "output_type": "stream",
     "text": [
      "2025-01-02 22:37:26.181 \n",
      "  \u001b[33m\u001b[1mWarning:\u001b[0m to view this Streamlit app on a browser, run it with the following\n",
      "  command:\n",
      "\n",
      "    streamlit run /opt/anaconda3/lib/python3.12/site-packages/ipykernel_launcher.py [ARGUMENTS]\n"
     ]
    }
   ],
   "source": [
    "import streamlit as st\n",
    "\n",
    "# Title for the app\n",
    "st.title(\"Coffee Point Data Analysis\")\n",
    "\n",
    "# Simple introduction\n",
    "st.write(\"Welcome to the Coffee Point Analysis App! Upload your data and get insights.\")\n",
    "\n",
    "# Sidebar for file upload\n",
    "uploaded_file = st.sidebar.file_uploader(\"Upload your CSV file\", type=\"csv\")\n",
    "\n",
    "if uploaded_file:\n",
    "    st.write(\"Here is the uploaded data:\")\n",
    "    st.write(uploaded_file.name)  # Display the name of the file\n",
    "\n",
    "st.write(\"This is the starting point of your app!\")"
   ]
  },
  {
   "cell_type": "code",
   "execution_count": null,
   "id": "8ed3bc01-904a-47ae-b86c-06332185edce",
   "metadata": {},
   "outputs": [],
   "source": [
    "import streamlit as st\n",
    "import pandas as pd\n",
    "\n",
    "# Title for the app\n",
    "st.title(\"Coffee Point Data Analysis\")\n",
    "\n",
    "# File upload in the sidebar\n",
    "uploaded_file = st.sidebar.file_uploader(\"Upload your CSV file\", type=\"csv\")\n",
    "\n",
    "if uploaded_file:\n",
    "    # Load the file using pandas\n",
    "    data = pd.read_csv(uploaded_file)\n",
    "\n",
    "    # Display the first 5 rows of the data\n",
    "    st.write(\"Here is the uploaded data:\")\n",
    "    st.write(data.head())"
   ]
  }
 ],
 "metadata": {
  "kernelspec": {
   "display_name": "Python 3 (ipykernel)",
   "language": "python",
   "name": "python3"
  },
  "language_info": {
   "codemirror_mode": {
    "name": "ipython",
    "version": 3
   },
   "file_extension": ".py",
   "mimetype": "text/x-python",
   "name": "python",
   "nbconvert_exporter": "python",
   "pygments_lexer": "ipython3",
   "version": "3.12.7"
  }
 },
 "nbformat": 4,
 "nbformat_minor": 5
}
